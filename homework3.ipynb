{
 "cells": [
  {
   "cell_type": "code",
   "execution_count": 232,
   "outputs": [],
   "source": [
    "import math\n",
    "import matplotlib.pyplot as plt\n",
    "import numpy as np\n",
    "from sympy import symbols, Eq, solve\n"
   ],
   "metadata": {
    "collapsed": false,
    "pycharm": {
     "name": "#%%\n"
    }
   }
  },
  {
   "cell_type": "markdown",
   "metadata": {},
   "source": [
    "# Homework 3\n",
    "\n",
    "## Birth, death, and competition"
   ]
  },
  {
   "cell_type": "markdown",
   "metadata": {},
   "source": [
    "Consider a modification to the birth-death process that we studied in class: Besides birth and death of individuals, let us introduce competition among individuals. This is meant to model the fact that resources are limited and cannot support a population when it grows too large. In that case, individuals have to compete for resources and may die if they lose the competition."
   ]
  },
  {
   "cell_type": "markdown",
   "metadata": {},
   "source": [
    "1. Recall that the birth and death processes can be described by the reactions:\n",
    "\\begin{align}\n",
    "\\mathbb{I} &\\xrightarrow{\\beta} 2 \\mathbb{I} \\\\\n",
    "\\mathbb{I} &\\xrightarrow{\\delta} \\mathbb{0}\n",
    "\\end{align}\n",
    "Now add another reaction to represent competition. This reaction would describe the process by which \"two individuals compete and one survives\", i.e., \"two individuals become one\". Write down the reaction and denote the rate constant by $\\chi$."
   ]
  },
  {
   "cell_type": "markdown",
   "source": [
    "\\begin{align}\n",
    "2\\mathbb{I} &\\xrightarrow{\\chi} \\mathbb{I}\n",
    "\\end{align}\n"
   ],
   "metadata": {
    "collapsed": false,
    "pycharm": {
     "name": "#%% md\n"
    }
   }
  },
  {
   "cell_type": "markdown",
   "metadata": {},
   "source": [
    "2. The overall rate of competition will depend on how often individuals run into each other, which in turn depends on the population size $N$. Since it takes two individuals to compete, the overall rate of competition will be proportional to $N^2$. This means that, within a short time $dt$, there will be $\\chi N^2 dt$ events of competition on average, hence $\\chi N^2 dt$ individuals will die from competition. At equilibrium, the total numbers of births and deaths should balance out. Derive the expected population size at equilibrium in terms of the rate constants $\\beta$, $\\delta$, and $\\chi$."
   ]
  },
  {
   "cell_type": "markdown",
   "metadata": {
    "pycharm": {
     "name": "#%% md\n"
    }
   },
   "source": [
    "(I don't know LaTeX, so sorry for this formatting!)\n",
    "\n",
    "$$dN = N \\beta \\, dt - N \\delta \\, dt - N^2 \\chi dt$$\n",
    "\n",
    "$$\\frac{dN}{dt} = (\\beta - \\delta) N - \\chi N^2$$\n",
    "\n",
    "Trying to use some funky differential equation stuff, but I never took diffie q so if I'm wrong then whoops\n",
    "\n",
    "$$N = \\frac{\\beta-\\delta}{\\chi} $$\n"
   ]
  },
  {
   "cell_type": "markdown",
   "metadata": {},
   "source": [
    "3. As before, we can rescale time so that $\\delta = 1$ (i.e., average lifespan $= 1/\\delta = 1$). Let us also use $\\beta = 2$ as in our example in class. Now, if we look for $N_{eq} = 100$, what should $\\chi$ be?\n",
    "\n",
    "$$\\chi$$ should be .01:\n",
    "$$N = \\frac{\\beta-\\delta}{\\chi} = \\frac{2-1}{\\chi} = 100 $$\n"
   ]
  },
  {
   "cell_type": "markdown",
   "metadata": {},
   "source": [
    "4. Now simulate the birth-death-competition process. You can either modify the `BirthDeath` class in [birth-death.ipynb](birth-death.ipynb), or copy the general `Gillespie` class from [gene-expression.ipynb](gene-expression.ipynb) and define a derived class by specifying appropriate stoichiometry matrices. Start from 1 individual and run the simulation for a sufficiently long time. Repeat several times and plot the trajectories of the population size versus time. Do you see extinctions? When the population does not go extinct, what happens? Describe the trends in your plots.\n"
   ]
  },
  {
   "cell_type": "code",
   "execution_count": 233,
   "outputs": [],
   "source": [
    "class LogGrowth:\n",
    "    # modified from BirthDeath class\n",
    "\n",
    "    \"\"\"\n",
    "    simulate the birth-death process using Gillespie algorithm.\n",
    "    \"\"\"\n",
    "\n",
    "    def __init__(self, comp_rate, birth_rate, death_rate=1., N0=1):\n",
    "        \"\"\"\n",
    "        initialize the population.\n",
    "        inputs:\n",
    "        comp_rate: float, competition interactions.\n",
    "        birth_rate: float, birth rate per individual.\n",
    "        death_rate: float, death rate per individual.\n",
    "        N0: int, initial population size.\n",
    "        \"\"\"\n",
    "        self.comp_rate = comp_rate\n",
    "        self.birth_rate = birth_rate\n",
    "        self.death_rate = death_rate\n",
    "        self.pop_size = N0    # current population size\n",
    "        self.time = 0.    # time since beginning of simulation\n",
    "        self.pop_hist = [N0]    # list to record history of population size\n",
    "        self.time_hist = [0.]    # list to record time of all events\n",
    "\n",
    "    def next_event(self):\n",
    "        \"\"\"\n",
    "        generate the waiting time and identity of the next event.\n",
    "        outputs:\n",
    "        tau: float, waiting time before next event.\n",
    "        event: int, 0 means birth and 1 means death.\n",
    "        \"\"\"\n",
    "        k_b = self.pop_size * self.birth_rate    # total birth rate\n",
    "        k_d = self.pop_size * self.death_rate    # total death rate\n",
    "        k_c = self.pop_size ** 2 * self.comp_rate # total competition interactions\n",
    "        taus = np.random.exponential([1/k_b, 1/k_d])    # draw two random numbers from exponential dist\n",
    "        tau_b, tau_d = taus[0], taus[1]\n",
    "        tau_c = np.random.lognormal([1/k_c])\n",
    "        np.append(taus, tau_c)\n",
    "        if tau_c <= tau_b and tau_c <= tau_d:   # competition event first\n",
    "            event = 1\n",
    "            return tau_c, event\n",
    "        elif tau_b <= tau_d and tau_b <= tau_c:    # birth happens first\n",
    "            event = 0\n",
    "            return tau_b, event\n",
    "        elif tau_d <= tau_b and tau_d <= tau_c:    # death happens first\n",
    "            event = 1\n",
    "            return tau_d, event\n",
    "\n",
    "\n",
    "    def run(self, T):\n",
    "        \"\"\"\n",
    "        run simulation until time T since the beginning.\n",
    "        inputs:\n",
    "        T: float, time since the beginning of the simulation.\n",
    "        \"\"\"\n",
    "        while self.time < T:\n",
    "            if self.pop_size == 0:    # population goes extinct\n",
    "                break    # exit while loop to end simulation\n",
    "            tau, event = self.next_event()    # draw next event\n",
    "            self.time += tau    # update time\n",
    "            if event == 0:\n",
    "                self.pop_size += 1    # birth\n",
    "            elif event == 1:\n",
    "                self.pop_size -= 1    # death\n",
    "            self.time_hist.append(self.time)    # record time of event\n",
    "            self.pop_hist.append(self.pop_size)    # record population size after event"
   ],
   "metadata": {
    "collapsed": false,
    "pycharm": {
     "name": "#%%\n"
    }
   }
  },
  {
   "cell_type": "code",
   "execution_count": 234,
   "outputs": [],
   "source": [
    "beta = 2.    # growth rate\n",
    "delta = 1.    # death rate\n",
    "\n",
    "dt = 0.01    # time step size\n",
    "T = 10.    # total time to solve the equation for"
   ],
   "metadata": {
    "collapsed": false,
    "pycharm": {
     "name": "#%%\n"
    }
   }
  },
  {
   "cell_type": "code",
   "execution_count": 235,
   "outputs": [
    {
     "name": "stdout",
     "output_type": "stream",
     "text": [
      "current time = 0.4200712767462046, current population size = 0\n",
      "current time = [10.00019858], current population size = 13270\n",
      "current time = [10.00022995], current population size = 11432\n",
      "current time = [10.00004228], current population size = 17496\n",
      "current time = [0.30946358], current population size = 0\n"
     ]
    }
   ],
   "source": [
    "chi = .01\n",
    "trials = 5    # number of simulations to repeat\n",
    "bd_list = []\n",
    "\n",
    "for i in range(trials):\n",
    "    bd1 = LogGrowth(beta, delta, chi)\n",
    "    bd1.run(T)\n",
    "    print(f'current time = {bd1.time}, current population size = {bd1.pop_size}')\n",
    "    bd_list.append(bd1)"
   ],
   "metadata": {
    "collapsed": false,
    "pycharm": {
     "name": "#%%\n"
    }
   }
  },
  {
   "cell_type": "code",
   "execution_count": 236,
   "outputs": [
    {
     "name": "stderr",
     "output_type": "stream",
     "text": [
      "c:\\users\\cwslg\\documents\\pictures.2\\school\\programming\\programming projects\\projects\\spring21\\planning\\venv\\lib\\site-packages\\numpy\\core\\_asarray.py:136: VisibleDeprecationWarning: Creating an ndarray from ragged nested sequences (which is a list-or-tuple of lists-or-tuples-or ndarrays with different lengths or shapes) is deprecated. If you meant to do this, you must specify 'dtype=object' when creating the ndarray\n",
      "  return array(a, dtype, copy=False, order=order, subok=True)\n"
     ]
    },
    {
     "data": {
      "text/plain": "<Figure size 432x288 with 1 Axes>",
      "image/png": "[encoded data removed]"
     },
     "metadata": {
      "needs_background": "light"
     },
     "output_type": "display_data"
    }
   ],
   "source": [
    "plt.figure()\n",
    "for bd1 in bd_list:\n",
    "    plt.plot(bd1.time_hist, bd1.pop_hist, drawstyle='steps-post')    # stochastic realizations\n",
    "plt.axhline(y=100, color=\"black\")\n",
    "plt.yscale('log')\n",
    "plt.xlabel('time')\n",
    "plt.ylabel('population size')\n",
    "plt.show()\n"
   ],
   "metadata": {
    "collapsed": false,
    "pycharm": {
     "name": "#%%\n"
    }
   }
  },
  {
   "cell_type": "markdown",
   "metadata": {},
   "source": [
    "5. For cases where the population does not go extinct, find the distribution of the population size at equilibrium. You can use the `collect_data()` function from [gene-expression.ipynb](gene-expression.ipynb) to collect the population size at selected time points. Calculate the mean, variance, and their ratio, as well as plot a histogram. Does your mean match the expected value $N_{eq}$? Is the distribution Poisson judging from the variance-to-mean ratio?"
   ]
  },
  {
   "cell_type": "code",
   "execution_count": 236,
   "metadata": {},
   "outputs": [],
   "source": []
  },
  {
   "cell_type": "markdown",
   "metadata": {},
   "source": [
    "6. (optional) For this modified model, estimate the extinction probability starting from 1 individual. You have to run the simulation many times to collect the statistics (but each run does not have to be long). How does your result compare to the original birth-death process we studied in class? Try to give an intuitive explanation."
   ]
  },
  {
   "cell_type": "code",
   "execution_count": 236,
   "metadata": {},
   "outputs": [],
   "source": []
  }
 ],
 "metadata": {
  "kernelspec": {
   "display_name": "Python 3",
   "language": "python",
   "name": "python3"
  },
  "language_info": {
   "codemirror_mode": {
    "name": "ipython",
    "version": 3
   },
   "file_extension": ".py",
   "mimetype": "text/x-python",
   "name": "python",
   "nbconvert_exporter": "python",
   "pygments_lexer": "ipython3",
   "version": "3.8.5"
  }
 },
 "nbformat": 4,
 "nbformat_minor": 4
}